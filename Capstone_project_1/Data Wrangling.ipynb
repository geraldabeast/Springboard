{
 "cells": [
  {
   "cell_type": "code",
   "execution_count": 1,
   "metadata": {},
   "outputs": [],
   "source": [
    "#Import the NFL play by play data\n",
    "import pandas as pd \n",
    "\n",
    "#Enter desired years of data\n",
    "YEARS = [2019,2018,2017]\n",
    "\n",
    "data = pd.DataFrame()\n",
    "\n",
    "for i in YEARS:  \n",
    "    #low_memory=False eliminates a warning\n",
    "    i_data = pd.read_csv('https://github.com/nflverse/nflfastR-data/blob/master/data/' \\\n",
    "                         'play_by_play_' + str(i) + '.csv.gz?raw=True',\n",
    "                         compression='gzip', low_memory=False)\n",
    "\n",
    "    #sort=True eliminates a warning and alphabetically sorts columns\n",
    "    data = data.append(i_data, sort=True)\n",
    "\n",
    "#Give each row a unique index\n",
    "data.reset_index(drop=True, inplace=True)"
   ]
  },
  {
   "cell_type": "code",
   "execution_count": 2,
   "metadata": {},
   "outputs": [],
   "source": [
    "#pd.options.display.max_columns = None\n",
    "#pd.options.display.max_rows = None"
   ]
  },
  {
   "cell_type": "code",
   "execution_count": 3,
   "metadata": {},
   "outputs": [],
   "source": [
    "#list(data.columns)"
   ]
  },
  {
   "cell_type": "code",
   "execution_count": 4,
   "metadata": {},
   "outputs": [
    {
     "name": "stdout",
     "output_type": "stream",
     "text": [
      "<class 'pandas.core.frame.DataFrame'>\n",
      "RangeIndex: 143905 entries, 0 to 143904\n",
      "Columns: 370 entries, aborted_play to yrdln\n",
      "dtypes: float64(177), int64(38), object(155)\n",
      "memory usage: 406.2+ MB\n"
     ]
    }
   ],
   "source": [
    "data.info()\n",
    "#data['down'].head(20)\n",
    "#new_data.isna().head().sum()"
   ]
  },
  {
   "cell_type": "code",
   "execution_count": null,
   "metadata": {},
   "outputs": [],
   "source": [
    "only_third_downs = data['down' == 3]"
   ]
  },
  {
   "cell_type": "code",
   "execution_count": null,
   "metadata": {},
   "outputs": [],
   "source": [
    "for x in new_data:\n",
    "    missing = x.isna().sum()\n",
    "    if missing > len(data.index)/2:\n",
    "        new_data.drop(x, inplace=True)        \n",
    "        "
   ]
  },
  {
   "cell_type": "markdown",
   "metadata": {},
   "source": [
    "- keep only rows that are 3rd down plays\n",
    "- need results from first and second downs into a column\n",
    "- every third down has it own play ID\n",
    "- seperate data frame for 3rd downs\n",
    "- keep only column that i see as valuable in current state or any columns that may be usful if i change them \n",
    "- a way to reduce the number of columns is look at the percentage of missing values\n",
    "    - if column is missing more than 50% of values then it is hard to do anything with column\n",
    "    "
   ]
  }
 ],
 "metadata": {
  "kernelspec": {
   "display_name": "Python 3",
   "language": "python",
   "name": "python3"
  },
  "language_info": {
   "codemirror_mode": {
    "name": "ipython",
    "version": 3
   },
   "file_extension": ".py",
   "mimetype": "text/x-python",
   "name": "python",
   "nbconvert_exporter": "python",
   "pygments_lexer": "ipython3",
   "version": "3.7.6"
  }
 },
 "nbformat": 4,
 "nbformat_minor": 4
}
